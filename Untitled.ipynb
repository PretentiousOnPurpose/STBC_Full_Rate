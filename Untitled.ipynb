{
 "cells": [
  {
   "cell_type": "code",
   "execution_count": 1,
   "metadata": {},
   "outputs": [],
   "source": [
    "import glob\n",
    "import numpy as np"
   ]
  },
  {
   "cell_type": "code",
   "execution_count": 2,
   "metadata": {},
   "outputs": [],
   "source": [
    "SNR = np.linspace(-25, -7, 10)\n",
    "MCS_9 = {}\n",
    "MCS_16 = {}\n",
    "\n",
    "for iter_SNR in range(len(SNR)):\n",
    "    MCS_9[SNR[iter_SNR]] = []\n",
    "    MCS_16[SNR[iter_SNR]] = []"
   ]
  },
  {
   "cell_type": "code",
   "execution_count": 3,
   "metadata": {},
   "outputs": [],
   "source": [
    "file = open(\"SNR_Tracker.22txt.txt\", \"r\")\n",
    "TS_9 = []\n",
    "TS_16 = []\n",
    "\n",
    "for iter_10 in range(10):\n",
    "    TS_9.append(float(file.readline().split(\":\")[-1]))\n",
    "\n",
    "for iter_10 in range(10):\n",
    "    TS_16.append(float(file.readline().split(\":\")[-1]))\n",
    "\n",
    "TS_16.append(2 * TS_16[-1])    \n",
    "\n",
    "TS_9 = np.array(TS_9).reshape(-1, 1)\n",
    "TS_16 = np.array(TS_16).reshape(-1, 1)\n",
    "    \n",
    "file.close()"
   ]
  },
  {
   "cell_type": "code",
   "execution_count": 4,
   "metadata": {},
   "outputs": [],
   "source": [
    "TS = np.concatenate((TS_9, TS_16), axis = 0)"
   ]
  },
  {
   "cell_type": "code",
   "execution_count": 5,
   "metadata": {},
   "outputs": [
    {
     "data": {
      "text/plain": [
       "array([[1.61131640e+09],\n",
       "       [1.61131891e+09],\n",
       "       [1.61132143e+09],\n",
       "       [1.61132394e+09],\n",
       "       [1.61132646e+09],\n",
       "       [1.61132897e+09],\n",
       "       [1.61133149e+09],\n",
       "       [1.61133400e+09],\n",
       "       [1.61133651e+09],\n",
       "       [1.61133903e+09],\n",
       "       [1.61134157e+09],\n",
       "       [1.61134409e+09],\n",
       "       [1.61134660e+09],\n",
       "       [1.61134912e+09],\n",
       "       [1.61135163e+09],\n",
       "       [1.61135414e+09],\n",
       "       [1.61135666e+09],\n",
       "       [1.61135917e+09],\n",
       "       [1.61136169e+09],\n",
       "       [1.61136420e+09],\n",
       "       [3.22272840e+09]])"
      ]
     },
     "execution_count": 5,
     "metadata": {},
     "output_type": "execute_result"
    }
   ],
   "source": [
    "TS"
   ]
  },
  {
   "cell_type": "code",
   "execution_count": 6,
   "metadata": {},
   "outputs": [],
   "source": [
    "FILE_9 = {}\n",
    "FILE_16 = {}\n",
    "\n",
    "fileNames = glob.glob(\"*.m\")\n",
    "\n",
    "for files in fileNames:\n",
    "    if int(files.split(\"_\")[0]) == 4008:\n",
    "        FILE_9[int(str(files.split(\"_\")[-1])[:-2])] = files\n",
    "    else:\n",
    "        FILE_16[int(str(files.split(\"_\")[-1])[:-2])] = files"
   ]
  },
  {
   "cell_type": "code",
   "execution_count": 24,
   "metadata": {},
   "outputs": [],
   "source": [
    "DR_9 = np.zeros((10, 1))\n",
    "DR_16 = np.zeros((10, 1))\n",
    "\n",
    "for iter_SNR in range(len(SNR)):\n",
    "    TS_tmp = np.array(list(FILE_9.keys()))[np.array(list(FILE_9.keys())) < TS[iter_SNR + 1]]\n",
    "    TS_tmp = TS_tmp[TS_tmp >= TS[iter_SNR]]\n",
    "\n",
    "    numFiles = len(TS_tmp)\n",
    "    \n",
    "    for iter_files in range(numFiles):\n",
    "        file = open(FILE_9[TS_tmp[iter_files]], \"r\")\n",
    "        DR_9[iter_SNR] = DR_9[iter_SNR] + np.mean(np.array(file.read().split(\"\\n\")[:-1]).astype(float))\n",
    "        file.close()\n",
    "        \n",
    "    DR_9 = DR_9 / 100\n",
    "\n",
    "for iter_SNR in range(len(SNR)):\n",
    "    TS_tmp = np.array(list(FILE_16.keys()))[np.array(list(FILE_16.keys())) < TS[iter_SNR + 1 + 10]]\n",
    "    TS_tmp = TS_tmp[TS_tmp >= TS[iter_SNR + 10]]\n",
    "    \n",
    "    numFiles = len(TS_tmp)\n",
    "    \n",
    "    for iter_files in range(numFiles):\n",
    "        file = open(FILE_16[TS_tmp[iter_files]], \"r\")\n",
    "        DR_16[iter_SNR] = DR_16[iter_SNR] + np.mean(np.array(file.read().split(\"\\n\")[:-1]).astype(float))\n",
    "        file.close()\n",
    "        \n",
    "    DR_16 = DR_16 / 100"
   ]
  },
  {
   "cell_type": "code",
   "execution_count": 25,
   "metadata": {},
   "outputs": [],
   "source": [
    "iter_SNR = 0\n",
    "TS_tmp = np.array(list(FILE_9.keys()))[np.array(list(FILE_9.keys())) < TS[iter_SNR + 1]]\n",
    "TS_tmp = TS_tmp[TS_tmp >= TS[iter_SNR]]"
   ]
  },
  {
   "cell_type": "code",
   "execution_count": 26,
   "metadata": {},
   "outputs": [
    {
     "data": {
      "text/plain": [
       "array([1611316420, 1611316470, 1611316495, 1611316546, 1611316571,\n",
       "       1611316596, 1611316621, 1611316646, 1611316671, 1611316697,\n",
       "       1611316772, 1611316797, 1611316822, 1611316848, 1611316873,\n",
       "       1611316923, 1611316948, 1611316973, 1611317024, 1611317049,\n",
       "       1611317099, 1611317149, 1611317200, 1611317225, 1611317275,\n",
       "       1611317325, 1611317376, 1611317401, 1611317451, 1611317476,\n",
       "       1611317502, 1611317527, 1611317552, 1611317652, 1611317678,\n",
       "       1611317703, 1611317728, 1611317753, 1611317778, 1611317803,\n",
       "       1611317829, 1611317854, 1611317879, 1611317904, 1611317929,\n",
       "       1611317954, 1611318005, 1611318030, 1611318055, 1611318080,\n",
       "       1611318181, 1611318231, 1611318256, 1611318281, 1611318306,\n",
       "       1611318332, 1611318357, 1611318407, 1611318482, 1611318508,\n",
       "       1611318533, 1611318558, 1611318583, 1611318608, 1611318659,\n",
       "       1611318709, 1611318734, 1611318759, 1611318809, 1611318835,\n",
       "       1611318860, 1611318910])"
      ]
     },
     "execution_count": 26,
     "metadata": {},
     "output_type": "execute_result"
    }
   ],
   "source": [
    "TS_tmp"
   ]
  },
  {
   "cell_type": "code",
   "execution_count": 27,
   "metadata": {},
   "outputs": [
    {
     "data": {
      "text/plain": [
       "array([[2.72931994e-18],\n",
       "       [2.94456790e-16],\n",
       "       [3.01809086e-14],\n",
       "       [3.04608000e-12],\n",
       "       [3.16627953e-10],\n",
       "       [2.88576000e-08],\n",
       "       [2.88576000e-06],\n",
       "       [3.20640000e-04],\n",
       "       [2.72544000e-02],\n",
       "       [2.84568000e+00]])"
      ]
     },
     "execution_count": 27,
     "metadata": {},
     "output_type": "execute_result"
    }
   ],
   "source": [
    "DR_9"
   ]
  },
  {
   "cell_type": "code",
   "execution_count": 28,
   "metadata": {},
   "outputs": [
    {
     "data": {
      "text/plain": [
       "array([[7.01754501e-19],\n",
       "       [2.90341578e-16],\n",
       "       [4.45903247e-14],\n",
       "       [5.50979397e-12],\n",
       "       [5.55682904e-10],\n",
       "       [5.56519212e-08],\n",
       "       [5.87934905e-06],\n",
       "       [5.95671163e-04],\n",
       "       [5.80200000e-02],\n",
       "       [5.49256000e+00]])"
      ]
     },
     "execution_count": 28,
     "metadata": {},
     "output_type": "execute_result"
    }
   ],
   "source": [
    "DR_16"
   ]
  },
  {
   "cell_type": "code",
   "execution_count": null,
   "metadata": {},
   "outputs": [],
   "source": []
  }
 ],
 "metadata": {
  "kernelspec": {
   "display_name": "Python 3",
   "language": "python",
   "name": "python3"
  },
  "language_info": {
   "codemirror_mode": {
    "name": "ipython",
    "version": 3
   },
   "file_extension": ".py",
   "mimetype": "text/x-python",
   "name": "python",
   "nbconvert_exporter": "python",
   "pygments_lexer": "ipython3",
   "version": "3.8.0"
  }
 },
 "nbformat": 4,
 "nbformat_minor": 4
}
